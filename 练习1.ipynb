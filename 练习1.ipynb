{
 "cells": [
  {
   "cell_type": "markdown",
   "id": "golden-kingdom",
   "metadata": {},
   "source": [
    "导入所需要的库"
   ]
  },
  {
   "cell_type": "code",
   "execution_count": 1,
   "id": "massive-casino",
   "metadata": {},
   "outputs": [],
   "source": [
    "import numpy as np\n",
    "import torch as t\n",
    "%matplotlib inline\n",
    "from matplotlib import pyplot as plt"
   ]
  },
  {
   "cell_type": "markdown",
   "id": "exciting-minnesota",
   "metadata": {},
   "source": [
    "生成训练数据，并可视化数据分布情况"
   ]
  },
  {
   "cell_type": "code",
   "execution_count": 2,
   "id": "revised-healing",
   "metadata": {},
   "outputs": [
    {
     "data": {
      "image/png": "[encoded data removed]",
      "text/plain": [
       "<Figure size 432x288 with 1 Axes>"
      ]
     },
     "metadata": {
      "needs_background": "light"
     },
     "output_type": "display_data"
    }
   ],
   "source": [
    "#设定随机种子，注意以下t都是torch\n",
    "t.manual_seed(100)\n",
    "\n",
    "\n",
    "#设定生成的类型为float类型\n",
    "dtype = t.float\n",
    "\n",
    "#生成x坐标数据，x为tenor，形状为100x1\n",
    "x=t.unsqueeze(t.linspace(-1,1,100),dim=1)\n",
    "\n",
    "\n",
    "#生成y坐标数据，y为tenor，形状为100x1，另加上一些噪音\n",
    "#y=3*x^2+2+0.2*(和x形状相同的标准正太分布)\n",
    "y = 3*x.pow(2)+2+0.2 * t.rand(x.size())\n",
    "\n",
    "#画图scatter绘制散点图，默认用蓝色的'o'来绘制\n",
    "plt.scatter(x,y)\n",
    "\n",
    "#显示图\n",
    "plt.show()\n",
    "\n"
   ]
  },
  {
   "cell_type": "markdown",
   "id": "popular-cowboy",
   "metadata": {},
   "source": [
    "初始化权重参数（并设定记录梯度模式为True）"
   ]
  },
  {
   "cell_type": "code",
   "execution_count": 3,
   "id": "exterior-alberta",
   "metadata": {},
   "outputs": [],
   "source": [
    "w = t.randn(1,1, dtype=None,requires_grad=True)\n",
    "b = t.zeros(1,1,dtype=None,requires_grad=True)"
   ]
  },
  {
   "cell_type": "code",
   "execution_count": 4,
   "id": "narrow-armstrong",
   "metadata": {},
   "outputs": [],
   "source": [
    "lr=0.01"
   ]
  },
  {
   "cell_type": "code",
   "execution_count": 5,
   "id": "fallen-southeast",
   "metadata": {},
   "outputs": [
    {
     "data": {
      "image/png": "[encoded data removed]",
      "text/plain": [
       "<Figure size 432x288 with 1 Axes>"
      ]
     },
     "metadata": {
      "needs_background": "light"
     },
     "output_type": "display_data"
    },
    {
     "name": "stdout",
     "output_type": "stream",
     "text": [
      "tensor([[2.9665]], requires_grad=True) tensor([[2.1139]], requires_grad=True)\n"
     ]
    }
   ],
   "source": [
    "for i in range(100): \n",
    "    y_pred=x.pow(2)*w+b\n",
    "    loss= 0.5*((y_pred-y)**2)\n",
    "    loss=loss.sum()\n",
    "    loss.backward()\n",
    "    # 手动更新参数，需要用torch.no_grad()更新参数。若不使用torch.no_grad()在循环中梯度会叠加\n",
    "    with t.no_grad():\n",
    "        w-=lr*w.grad\n",
    "        b-=lr*b.grad\n",
    "        # 梯度清零相当于\n",
    "        w.grad.zero_()\n",
    "        b.grad.zero_()\n",
    "\n",
    "\n",
    "\n",
    "#scatter绘制散点，plot绘制经过点的曲线\n",
    "#tensor.detach()返回一个新的tensor，从当前计算图中分离下来。但是仍指向原变量的存放位置，\n",
    "#不同之处只是requirse_grad为false.得到的这个tensir永远不需要计算器梯度，不具有grad.\n",
    "#下面可以不将tensor转化成numpy也能画图\n",
    "plt.plot(x.numpy(), y_pred.detach().numpy(),'r-',label='predict')#predict\n",
    "plt.scatter(x.numpy(), y.numpy(),color='blue',marker='o',label='true') # true data\n",
    "\n",
    "#设定横纵坐标区间\n",
    "plt.xlim(-1,1)\n",
    "plt.ylim(2,6)  \n",
    "\n",
    "#显示图\n",
    "plt.show()\n",
    "        \n",
    "print(w, b)\n"
   ]
  },
  {
   "cell_type": "markdown",
   "id": "temporal-version",
   "metadata": {},
   "source": [
    "注意：（1）plt.plot(x,y_pred.detach(),'r--',label='predict')必须把y_pred从求梯度运算中分离才能画图\n",
    "    （2）w.grad.zero_()下划线在末尾\n",
    "    （3）y_pred=x.pow(2).mm(w)+b\n",
    "    (4)t.manual_seed(100)\n",
    "    (5)t.linspace()\n",
    "    (6)t.unsqueeze()\n",
    "   (7) x.pow(2).mm(w):w必须是一个张量才行\n",
    "   (8)x.size()别忘记括号\n",
    "   (9)b.grad记住没括号"
   ]
  }
 ],
 "metadata": {
  "kernelspec": {
   "display_name": "Python 3",
   "language": "python",
   "name": "python3"
  },
  "language_info": {
   "codemirror_mode": {
    "name": "ipython",
    "version": 3
   },
   "file_extension": ".py",
   "mimetype": "text/x-python",
   "name": "python",
   "nbconvert_exporter": "python",
   "pygments_lexer": "ipython3",
   "version": "3.7.0"
  },
  "toc": {
   "base_numbering": 1,
   "nav_menu": {},
   "number_sections": true,
   "sideBar": true,
   "skip_h1_title": false,
   "title_cell": "Table of Contents",
   "title_sidebar": "Contents",
   "toc_cell": false,
   "toc_position": {},
   "toc_section_display": true,
   "toc_window_display": false
  }
 },
 "nbformat": 4,
 "nbformat_minor": 5
}
