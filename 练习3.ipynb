{
 "cells": [
  {
   "cell_type": "markdown",
   "id": "equal-mumbai",
   "metadata": {},
   "source": [
    "# 实现神经网络实例"
   ]
  },
  {
   "cell_type": "code",
   "execution_count": 1,
   "id": "attached-handy",
   "metadata": {
    "ExecuteTime": {
     "end_time": "2021-04-15T09:08:05.247696Z",
     "start_time": "2021-04-15T09:08:04.764008Z"
    }
   },
   "outputs": [],
   "source": [
    "#导入需要的包\n",
    "import numpy as np\n",
    "import torch\n",
    "\n",
    "# 导入 pytorch 内置的 mnist 数据\n",
    "from torchvision.datasets import mnist\n",
    "\n",
    "#导入预处理模块\n",
    "import torchvision.transforms as transforms\n",
    "from torch.utils.data import DataLoader\n",
    "\n",
    "#导入nn及优化器\n",
    "import torch.nn.functional as F\n",
    "import torch.optim as optim\n",
    "from torch import nn\n",
    "from tensorboardX import SummaryWriter"
   ]
  },
  {
   "cell_type": "code",
   "execution_count": 2,
   "id": "forbidden-graphics",
   "metadata": {
    "ExecuteTime": {
     "end_time": "2021-04-15T09:08:05.262846Z",
     "start_time": "2021-04-15T09:08:05.251724Z"
    }
   },
   "outputs": [],
   "source": [
    "#设定一些超参数\n",
    "train_batch_size = 64\n",
    "test_batch_size = 128\n",
    "num_epoches=10"
   ]
  },
  {
   "cell_type": "markdown",
   "id": "nervous-reflection",
   "metadata": {},
   "source": [
    "## 下载并读取预处理之后的数据"
   ]
  },
  {
   "cell_type": "code",
   "execution_count": 3,
   "id": "liberal-pottery",
   "metadata": {
    "ExecuteTime": {
     "end_time": "2021-04-15T09:08:05.310709Z",
     "start_time": "2021-04-15T09:08:05.264808Z"
    }
   },
   "outputs": [],
   "source": [
    "#定义预处理函数tansforms.Compose()可以把一些转换函数组合在一起\n",
    "transform = transforms.Compose([transforms.ToTensor(),transforms.Normalize([0.5], [0.5])])\n",
    " \n",
    "#下载数据，并对数据进行预处理\n",
    "train_data = mnist.MNIST('../数据', train=True, transform=transform,download=False)\n",
    "test_data  = mnist.MNIST('../数据', train=False, transform=transform,download=False)\n",
    "\n",
    "\n",
    "#得到一个生成器,批处理结构\n",
    "train_loader = DataLoader(train_data,batch_size=train_batch_size,shuffle=True)\n",
    "test_loader  = DataLoader(test_data ,batch_size=test_batch_size,shuffle=True)\n",
    "\n",
    "#查看其中一个训练数据的大小\n",
    "example = enumerate(train_loader)\n",
    "i,(example_data,example_target) = next(example)"
   ]
  },
  {
   "cell_type": "code",
   "execution_count": 4,
   "id": "twelve-processor",
   "metadata": {
    "ExecuteTime": {
     "end_time": "2021-04-15T09:08:05.326642Z",
     "start_time": "2021-04-15T09:08:05.311682Z"
    }
   },
   "outputs": [
    {
     "data": {
      "text/plain": [
       "torch.Size([64, 1, 28, 28])"
      ]
     },
     "execution_count": 4,
     "metadata": {},
     "output_type": "execute_result"
    }
   ],
   "source": [
    "example_data.shape#64为批处理个数；1为通道数；图片长宽为28*28"
   ]
  },
  {
   "cell_type": "code",
   "execution_count": 5,
   "id": "secondary-plumbing",
   "metadata": {
    "ExecuteTime": {
     "end_time": "2021-04-15T09:08:05.342599Z",
     "start_time": "2021-04-15T09:08:05.327639Z"
    }
   },
   "outputs": [
    {
     "name": "stdout",
     "output_type": "stream",
     "text": [
      "torch.Size([64, 784])\n",
      "938\n",
      "64\n"
     ]
    }
   ],
   "source": [
    "example_data=example_data.view(example_data.size(0),-1)\n",
    "print(example_data.shape)\n",
    "print(len(train_loader))\n",
    "print(example_data.shape[0])"
   ]
  },
  {
   "cell_type": "markdown",
   "id": "monthly-stadium",
   "metadata": {},
   "source": [
    "## 构建模型"
   ]
  },
  {
   "cell_type": "markdown",
   "id": "normal-archives",
   "metadata": {},
   "source": [
    "### 方法一\n",
    "采用torhc.nn.Sequential()来构建网络层，使用起来就像搭积木一样。不过，这种方法每层的编码是默认的数字，不易区分。"
   ]
  },
  {
   "cell_type": "code",
   "execution_count": 6,
   "id": "pursuant-probability",
   "metadata": {
    "ExecuteTime": {
     "end_time": "2021-04-15T09:08:05.358558Z",
     "start_time": "2021-04-15T09:08:05.343597Z"
    }
   },
   "outputs": [],
   "source": [
    "class Net(nn.Module):\n",
    "    def __init__(self,in_dim, n_hidden_1, n_hidden_2, out_dim):\n",
    "        super(Net,self).__init__()\n",
    "        self.layer1 = nn.Sequential(nn.Linear(in_dim,n_hidden_1),nn.BatchNorm1d(n_hidden_1))\n",
    "        self.layer2 = nn.Sequential(nn.Linear(n_hidden_1,n_hidden_2),nn.BatchNorm1d(n_hidden_2))\n",
    "        self.layer3 = nn.Sequential(nn.Linear(n_hidden_2,out_dim))\n",
    "    def forward(self,x):\n",
    "        x = F.relu(self.layer1(x))\n",
    "        x = F.relu(self.layer2(x))\n",
    "        x = (self.layer3(x))\n",
    "        return x"
   ]
  },
  {
   "cell_type": "markdown",
   "id": "dirty-fiber",
   "metadata": {},
   "source": [
    "## 方法二\n",
    "如果对每层定义一个名称，我们可以采用Sequential的一种改进方法。在Sequential的基础上，通过add_module()添加每一层，并且为每一层增加一个单独的名字。此外，还可以再Sequential基础上，通过字典的形式添加每一层，并且设置单独的层名称。下面是用字典的方式构建网络的实例代码。"
   ]
  },
  {
   "cell_type": "code",
   "execution_count": 7,
   "id": "acting-breakdown",
   "metadata": {
    "ExecuteTime": {
     "end_time": "2021-04-15T09:08:05.374514Z",
     "start_time": "2021-04-15T09:08:05.359558Z"
    }
   },
   "outputs": [],
   "source": [
    "class Net1(torch.nn.Module):\n",
    "    def __init__(self):\n",
    "        super(Net4, self).__init__()\n",
    "        self.conv = torch.nn.Sequential(\n",
    "            OrderedDict(\n",
    "                [\n",
    "                    (\"conv1\", torch.nn.Conv2d(3, 32, 3, 1, 1)),\n",
    "                    (\"relu1\", torch.nn.ReLU()),\n",
    "                    (\"pool\", torch.nn.MaxPool2d(2))\n",
    "                ]\n",
    "            ))\n",
    "\n",
    "        self.dense = torch.nn.Sequential(\n",
    "            OrderedDict([\n",
    "                (\"dense1\", torch.nn.Linear(32 * 3 * 3, 128)),\n",
    "                (\"relu2\", torch.nn.ReLU()),\n",
    "                (\"dense2\", torch.nn.Linear(128, 10))\n",
    "            ])\n",
    "        )\n"
   ]
  },
  {
   "cell_type": "code",
   "execution_count": 8,
   "id": "pointed-thunder",
   "metadata": {
    "ExecuteTime": {
     "end_time": "2021-04-15T09:08:05.390471Z",
     "start_time": "2021-04-15T09:08:05.376510Z"
    }
   },
   "outputs": [],
   "source": [
    "#设定超参数lr和momentum\n",
    "lr = 0.01\n",
    "momentum = 0.9\n",
    "device = torch.device(\"cuda:0\" if torch.cuda.is_available() else \"cpu\")#实例化模型之前判断是否有GPU\n",
    "\n",
    "#实例化模型\n",
    "model = Net(28*28,300, 100, 10)\n",
    "model.to(device)#若有GPU转到GPU上运行\n",
    "\n",
    "#定义损失和优化器\n",
    "criterion = nn.CrossEntropyLoss()\n",
    "optimizer = optim.SGD(model.parameters(),lr=lr, momentum=momentum)\n",
    "\n"
   ]
  },
  {
   "cell_type": "markdown",
   "id": "intense-container",
   "metadata": {},
   "source": [
    "## 定义损失和优化器"
   ]
  },
  {
   "cell_type": "code",
   "execution_count": 9,
   "id": "front-coupon",
   "metadata": {
    "ExecuteTime": {
     "end_time": "2021-04-15T09:08:05.406428Z",
     "start_time": "2021-04-15T09:08:05.391469Z"
    }
   },
   "outputs": [],
   "source": [
    "#定义损失和优化器\n",
    "criterion = nn.CrossEntropyLoss()\n",
    "optimizer = optim.SGD(model.parameters(),lr=lr, momentum=momentum)"
   ]
  },
  {
   "cell_type": "markdown",
   "id": "structured-charge",
   "metadata": {},
   "source": [
    "## 训练模型"
   ]
  },
  {
   "cell_type": "code",
   "execution_count": 10,
   "id": "close-stroke",
   "metadata": {
    "ExecuteTime": {
     "end_time": "2021-04-15T09:10:18.574254Z",
     "start_time": "2021-04-15T09:08:05.407426Z"
    },
    "code_folding": [],
    "run_control": {
     "marked": false
    }
   },
   "outputs": [
    {
     "name": "stdout",
     "output_type": "stream",
     "text": [
      "0.009000000000000001\n",
      "epoch:0,Train Loss:0.2277,Train Acc:0.9349,Test Loss:0.0975,Test Acc:0.9704\n",
      "epoch:1,Train Loss:0.0874,Train Acc:0.9734,Test Loss:0.0722,Test Acc:0.9784\n",
      "epoch:2,Train Loss:0.0610,Train Acc:0.9816,Test Loss:0.0695,Test Acc:0.9779\n",
      "epoch:3,Train Loss:0.0463,Train Acc:0.9854,Test Loss:0.0664,Test Acc:0.9783\n",
      "epoch:4,Train Loss:0.0341,Train Acc:0.9895,Test Loss:0.0601,Test Acc:0.9805\n",
      "0.008100000000000001\n",
      "epoch:5,Train Loss:0.0255,Train Acc:0.9925,Test Loss:0.0579,Test Acc:0.9810\n",
      "epoch:6,Train Loss:0.0197,Train Acc:0.9945,Test Loss:0.0548,Test Acc:0.9831\n",
      "epoch:7,Train Loss:0.0174,Train Acc:0.9953,Test Loss:0.0514,Test Acc:0.9846\n",
      "epoch:8,Train Loss:0.0137,Train Acc:0.9963,Test Loss:0.0514,Test Acc:0.9853\n",
      "epoch:9,Train Loss:0.0125,Train Acc:0.9967,Test Loss:0.0557,Test Acc:0.9833\n"
     ]
    }
   ],
   "source": [
    "#初始化：训练集损失，训练集准确度，测试集损失，测试集准确度。\n",
    "losses= []\n",
    "acces= []\n",
    "eval_losses = []\n",
    "eval_acces = []\n",
    "\n",
    "#创建文件夹训练损失（用以保存训练损失图）\n",
    "writer=SummaryWriter(log_dir='..\\数据\\练习三（训练损失）',comment='train-loss')\n",
    "\n",
    "#开始训练\n",
    "for epoch in range(num_epoches):\n",
    "    train_loss = 0\n",
    "    train_acc  = 0\n",
    "    #设置成训练模式\n",
    "    model.train()\n",
    "    if epoch%5==0:\n",
    "        optimizer.param_groups[0]['lr']*=0.9\n",
    "        print(optimizer.param_groups[0]['lr'])\n",
    "    for img,label in train_loader:\n",
    "        img=img.to(device)#若有GPU转到GPU上运行\n",
    "        label=label.to(device)#若有GPU转到GPU上运行\n",
    "    \n",
    "        img=img.view(img.size(0),-1)#img形状从原来的64*1*28*28变为64*784\n",
    "        \n",
    "        #前向传播\n",
    "        out=model(img)\n",
    "        loss=criterion(out, label)#loss为一个batch_size的损失\n",
    "        \n",
    "        #反向传播\n",
    "        optimizer.zero_grad()#防止在迭代过程中梯度累计，先将梯度清零。\n",
    "        loss.backward()\n",
    "        optimizer.step()#执行梯度更新\n",
    "        \n",
    "        #记录一个epoch的损失\n",
    "        train_loss+=loss.item()#.item()方法 是得到一个元素张量里面的元素值。\n",
    "                               #train_loss为一个epoch的所有batch_size损失之和。\n",
    "        \n",
    "        #保存loss的数据和epoch数值\n",
    "        writer.add_scalar('Train',train_loss/len(train_loader),epoch)#横轴为平均损失，纵轴为第几个epoch\n",
    "        \n",
    "        #记录分类准确度\n",
    "        _,pred = out.max(1)#max(-1)中的-1表示按照最后一个维度（行）求最大值.并返回行方向上最大值对应的索引\n",
    "                            #max(1)表示行方向的最大值和行方向最大值的索引。_表示最大值，pred表示索引。\n",
    "        num_correct = (pred == label).sum().item()#num_correct为一个batch_size分类正确的数量\n",
    "        acc = num_correct /img.shape[0]#acc为此batch_size的准确率\n",
    "        train_acc += acc     #train_acc为一个epoch中所有batch_size的准确率之和。\n",
    "        \n",
    "    losses.append(train_loss/len(train_loader))#len(train_loader)为一个epoch中batch_size的个数\n",
    "                                             #一个epoch的损失除以batch_size的个数得到平均每个batch_size的误差\n",
    "    acces.append(train_acc/len(train_loader))#一个epoch的准确率除以batch_size个数得到平均每个batch_size的准确率。\n",
    "    \n",
    "    \n",
    "    #在测试集上检验效果\n",
    "    eval_loss=0\n",
    "    eval_acc =0\n",
    "    model.eval() #net.eval() 将模型改为预测模式\n",
    "    for img,label in test_loader:\n",
    "        \n",
    "        img = img.to(device)\n",
    "        label=label.to(device)\n",
    "        \n",
    "        img=img.view(img.size(0),-1)\n",
    "        out=model(img)\n",
    "        loss=criterion(out,label)\n",
    "        \n",
    "        #记录误差\n",
    "        eval_loss+=loss.item()\n",
    "        \n",
    "        #记录准确率\n",
    "        _,pred = out.max(1)\n",
    "        num_correct=(pred==label).sum().item()\n",
    "        acc = num_correct/img.shape[0]\n",
    "        eval_acc +=acc\n",
    "    eval_losses.append(eval_loss/len(test_loader))\n",
    "    eval_acces.append(eval_acc/len(test_loader))\n",
    "    print('epoch:{},Train Loss:{:.4f},Train Acc:{:.4f},Test Loss:{:.4f},Test Acc:{:.4f}'\n",
    "         .format(epoch,train_loss/len(train_loader),train_acc/len(train_loader)\n",
    "                 ,eval_loss/len(test_loader),eval_acc/len(test_loader)))\n",
    "        "
   ]
  },
  {
   "cell_type": "code",
   "execution_count": 11,
   "id": "stone-adventure",
   "metadata": {
    "ExecuteTime": {
     "end_time": "2021-04-15T09:10:18.875211Z",
     "start_time": "2021-04-15T09:10:18.575252Z"
    }
   },
   "outputs": [
    {
     "data": {
      "text/plain": [
       "<matplotlib.legend.Legend at 0x1faa59595f8>"
      ]
     },
     "execution_count": 11,
     "metadata": {},
     "output_type": "execute_result"
    },
    {
     "data": {
      "image/png": "[encoded data removed]",
      "text/plain": [
       "<Figure size 432x288 with 1 Axes>"
      ]
     },
     "metadata": {
      "needs_background": "light"
     },
     "output_type": "display_data"
    }
   ],
   "source": [
    "import matplotlib.pyplot as plt\n",
    "%matplotlib inline\n",
    "plt.title('train loss')\n",
    "plt.plot(np.arange(len(losses)), losses)\n",
    "#plt.plot(np.arange(len(eval_losses)), eval_losses)\n",
    "#plt.legend(['Train Loss', 'Test Loss'], loc='upper right')\n",
    "plt.legend(['Train Loss'], loc='upper right')"
   ]
  },
  {
   "cell_type": "markdown",
   "id": "racial-piano",
   "metadata": {},
   "source": [
    "# 优化器的比较"
   ]
  }
 ],
 "metadata": {
  "kernelspec": {
   "display_name": "Python 3",
   "language": "python",
   "name": "python3"
  },
  "language_info": {
   "codemirror_mode": {
    "name": "ipython",
    "version": 3
   },
   "file_extension": ".py",
   "mimetype": "text/x-python",
   "name": "python",
   "nbconvert_exporter": "python",
   "pygments_lexer": "ipython3",
   "version": "3.7.0"
  },
  "toc": {
   "base_numbering": 1,
   "nav_menu": {},
   "number_sections": true,
   "sideBar": true,
   "skip_h1_title": false,
   "title_cell": "Table of Contents",
   "title_sidebar": "Contents",
   "toc_cell": false,
   "toc_position": {
    "height": "calc(100% - 180px)",
    "left": "10px",
    "top": "150px",
    "width": "165px"
   },
   "toc_section_display": true,
   "toc_window_display": true
  }
 },
 "nbformat": 4,
 "nbformat_minor": 5
}
